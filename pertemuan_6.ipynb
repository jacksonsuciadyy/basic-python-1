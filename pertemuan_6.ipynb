{
 "metadata": {
  "language_info": {
   "codemirror_mode": {
    "name": "ipython",
    "version": 3
   },
   "file_extension": ".py",
   "mimetype": "text/x-python",
   "name": "python",
   "nbconvert_exporter": "python",
   "pygments_lexer": "ipython3",
   "version": "3.9.1-final"
  },
  "orig_nbformat": 2,
  "kernelspec": {
   "name": "python3",
   "display_name": "Python 3",
   "language": "python"
  }
 },
 "nbformat": 4,
 "nbformat_minor": 2,
 "cells": [
  {
   "source": [
    "## Class"
   ],
   "cell_type": "markdown",
   "metadata": {}
  },
  {
   "cell_type": "code",
   "execution_count": 7,
   "metadata": {},
   "outputs": [
    {
     "output_type": "stream",
     "name": "stdout",
     "text": [
      "P1 :50\nP1 :78.57142857142857\nP2 :50\nP2 :78.57142857142857\n5\n"
     ]
    }
   ],
   "source": [
    "class MyClass:\n",
    "    x = 5\n",
    "    y = 10\n",
    "    Luas_Persegi = x*y\n",
    "    Luas_Ling = 22/7*x*x\n",
    "\n",
    "p1 = MyClass()\n",
    "p2 = MyClass()\n",
    "# p2 = MyClasses()\n",
    "print(f\"P1 :{p1.Luas_Persegi}\")\n",
    "print(f\"P1 :{p1.Luas_Ling}\")\n",
    "print(f\"P2 :{p2.Luas_Persegi}\")\n",
    "print(f\"P2 :{p2.Luas_Ling}\")\n",
    "print(p1.x)"
   ]
  },
  {
   "source": [
    "## Function"
   ],
   "cell_type": "markdown",
   "metadata": {}
  },
  {
   "cell_type": "code",
   "execution_count": null,
   "metadata": {},
   "outputs": [],
   "source": [
    "def MyClasses():\n",
    "    x = 5\n",
    "    y = 10\n",
    "    Luas_Persegi = x*y\n",
    "    Luas_Ling = 22/7*x*x\n",
    "    return Luas_Persegi, Luas_Ling\n",
    "\n",
    "print(p1.y)\n",
    "print(MyClasses())\n",
    "print(MyClasses()[0])\n",
    "print(MyClasses()[1])"
   ]
  },
  {
   "source": [
    "## init"
   ],
   "cell_type": "markdown",
   "metadata": {}
  },
  {
   "cell_type": "code",
   "execution_count": 11,
   "metadata": {},
   "outputs": [
    {
     "output_type": "stream",
     "name": "stdout",
     "text": [
      "Hallo namaku Nafi\nNama kamu siapa ?\nSalam kenal Dodit\nSenang bertemu denganmu, sampai jumpa kembali\n"
     ]
    }
   ],
   "source": [
    "class Person:\n",
    "    def __init__(self,name,age, nama_lawan):\n",
    "        self.name = name\n",
    "        self.age = age\n",
    "        self.nama_lawan = nama_lawan\n",
    "    def sapa(self):\n",
    "        print(\"Hallo namaku \"+ self.name)\n",
    "        print(\"Nama kamu siapa ?\")\n",
    "\n",
    "    def salamkenal(self):\n",
    "        print(\"Salam kenal \"+ self.nama_lawan)\n",
    "        print(\"Senang bertemu denganmu, sampai jumpa kembali\")\n",
    "\n",
    "p1 = Person(\"Nafi\",22,\"Dodit\")\n",
    "p1.sapa()\n",
    "p1.salamkenal()\n",
    "\n",
    "# p1 = Person(\"Nafi\",22)\n",
    "# p2 = Person(\"Dodit\",24)\n",
    "\n",
    "# print(p1.name)\n",
    "# print(p1.age)\n",
    "\n",
    "# print(p2.name)\n",
    "# print(p2.age)"
   ]
  },
  {
   "source": [
    "## Inheritance"
   ],
   "cell_type": "markdown",
   "metadata": {}
  },
  {
   "cell_type": "code",
   "execution_count": 4,
   "metadata": {},
   "outputs": [
    {
     "output_type": "stream",
     "name": "stdout",
     "text": [
      "Rahul\n886012\n=========\n"
     ]
    },
    {
     "output_type": "error",
     "ename": "AttributeError",
     "evalue": "'Employee' object has no attribute 'display2'",
     "traceback": [
      "\u001b[1;31m---------------------------------------------------------------------------\u001b[0m",
      "\u001b[1;31mAttributeError\u001b[0m                            Traceback (most recent call last)",
      "\u001b[1;32m<ipython-input-4-39304ab3378f>\u001b[0m in \u001b[0;36m<module>\u001b[1;34m\u001b[0m\n\u001b[0;32m     22\u001b[0m \u001b[0ma\u001b[0m\u001b[1;33m.\u001b[0m\u001b[0mdisplay\u001b[0m\u001b[1;33m(\u001b[0m\u001b[1;33m)\u001b[0m\u001b[1;33m\u001b[0m\u001b[1;33m\u001b[0m\u001b[0m\n\u001b[0;32m     23\u001b[0m \u001b[0mprint\u001b[0m\u001b[1;33m(\u001b[0m\u001b[1;34m\"=========\"\u001b[0m\u001b[1;33m)\u001b[0m\u001b[1;33m\u001b[0m\u001b[1;33m\u001b[0m\u001b[0m\n\u001b[1;32m---> 24\u001b[1;33m \u001b[0ma\u001b[0m\u001b[1;33m.\u001b[0m\u001b[0mdisplay2\u001b[0m\u001b[1;33m(\u001b[0m\u001b[1;33m)\u001b[0m\u001b[1;33m\u001b[0m\u001b[1;33m\u001b[0m\u001b[0m\n\u001b[0m",
      "\u001b[1;31mAttributeError\u001b[0m: 'Employee' object has no attribute 'display2'"
     ]
    }
   ],
   "source": [
    "class Person(object):\n",
    "    def __init__(self, name, idnumber):\n",
    "        self.name = name\n",
    "        self.idnumber = idnumber\n",
    "    def display(self):\n",
    "        print(self.name)\n",
    "        print(self.idnumber)\n",
    "\n",
    "class Employee( Person ):\n",
    "    def __init__(self, name, idnumber, salary, post):\n",
    "        self.salary = salary\n",
    "        self.post = post\n",
    "        \n",
    "        Person.__init__(self, name, idnumber)\n",
    "        \n",
    "    def display2(self):\n",
    "        print(self.name)\n",
    "        print(self.idnumber)\n",
    "        print(self.salary)\n",
    "        print(self.post)\n",
    "\n",
    "a = Employee(\"Rahul\", 886012, 200000, \"Intern\")\n",
    "a.display()\n",
    "print(\"=========\")\n",
    "a.display2()"
   ]
  },
  {
   "cell_type": "code",
   "execution_count": null,
   "metadata": {},
   "outputs": [],
   "source": []
  }
 ]
}