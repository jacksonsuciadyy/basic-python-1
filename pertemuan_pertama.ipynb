{
 "metadata": {
  "language_info": {
   "codemirror_mode": {
    "name": "ipython",
    "version": 3
   },
   "file_extension": ".py",
   "mimetype": "text/x-python",
   "name": "python",
   "nbconvert_exporter": "python",
   "pygments_lexer": "ipython3",
   "version": "3.9.1-final"
  },
  "orig_nbformat": 2,
  "kernelspec": {
   "name": "python3",
   "display_name": "Python 3",
   "language": "python"
  }
 },
 "nbformat": 4,
 "nbformat_minor": 2,
 "cells": [
  {
   "cell_type": "code",
   "execution_count": 1,
   "metadata": {},
   "outputs": [
    {
     "output_type": "stream",
     "name": "stdout",
     "text": [
      "Hello World\n"
     ]
    }
   ],
   "source": [
    "#First Program\n",
    "print(\"Hello World\")"
   ]
  },
  {
   "cell_type": "code",
   "execution_count": 2,
   "metadata": {},
   "outputs": [],
   "source": [
    "#Komentar di Python"
   ]
  },
  {
   "cell_type": "code",
   "execution_count": 10,
   "metadata": {},
   "outputs": [
    {
     "output_type": "stream",
     "name": "stdout",
     "text": [
      "Selamat Pagi,Selamat Siang,Selamat Malam\n<class 'str'>\n"
     ]
    }
   ],
   "source": [
    "sapa = \"Selamat Pagi\"\n",
    "sapa1 = \"Selamat Siang\"\n",
    "sapa_dua = \"Selamat Malam\"\n",
    "print(sapa, sapa1, sapa_dua, sep=',')\n",
    "print(type(sapa))"
   ]
  },
  {
   "cell_type": "code",
   "execution_count": 11,
   "metadata": {},
   "outputs": [
    {
     "output_type": "stream",
     "name": "stdout",
     "text": [
      "Ayok belajar AI\n<class 'str'>\n"
     ]
    }
   ],
   "source": [
    "var_string = \"Ayok belajar AI\"\n",
    "print(var_string)\n",
    "print(type(var_string))"
   ]
  },
  {
   "cell_type": "code",
   "execution_count": 13,
   "metadata": {},
   "outputs": [
    {
     "output_type": "stream",
     "name": "stdout",
     "text": [
      "99\n<class 'int'>\n"
     ]
    }
   ],
   "source": [
    "var_integer = 99\n",
    "print(var_integer)\n",
    "print(type(var_integer))"
   ]
  },
  {
   "cell_type": "code",
   "execution_count": 14,
   "metadata": {},
   "outputs": [
    {
     "output_type": "stream",
     "name": "stdout",
     "text": [
      "10.6\n<class 'float'>\n"
     ]
    }
   ],
   "source": [
    "var_float = 10.6\n",
    "print(var_float)\n",
    "print(type(var_float))"
   ]
  },
  {
   "cell_type": "code",
   "execution_count": 25,
   "metadata": {},
   "outputs": [
    {
     "output_type": "stream",
     "name": "stdout",
     "text": [
      "Nilainya True\nTrue\n<class 'bool'>\n"
     ]
    }
   ],
   "source": [
    "var_bool = True\n",
    "if var_bool:\n",
    "    print(\"Nilainya True\")\n",
    "print(var_bool)\n",
    "print(type(var_bool))"
   ]
  },
  {
   "cell_type": "code",
   "execution_count": 64,
   "metadata": {},
   "outputs": [
    {
     "output_type": "stream",
     "name": "stdout",
     "text": [
      "(1+3j)\n<class 'complex'>\n"
     ]
    }
   ],
   "source": [
    "comp = 1+3j\n",
    "print(comp)\n",
    "print(type(comp))"
   ]
  },
  {
   "cell_type": "code",
   "execution_count": 20,
   "metadata": {},
   "outputs": [
    {
     "output_type": "stream",
     "name": "stdout",
     "text": [
      "Ayok belajar AI, 99, 10.6, False\n"
     ]
    }
   ],
   "source": [
    "print(var_string, var_integer, var_float, var_bool, sep=\", \")"
   ]
  },
  {
   "cell_type": "code",
   "execution_count": 26,
   "metadata": {},
   "outputs": [
    {
     "output_type": "stream",
     "name": "stdout",
     "text": [
      "100\n"
     ]
    }
   ],
   "source": [
    "#Math Operation\n",
    "tambah = 1 + 99\n",
    "print(tambah)"
   ]
  },
  {
   "cell_type": "code",
   "execution_count": 31,
   "metadata": {},
   "outputs": [
    {
     "output_type": "stream",
     "name": "stdout",
     "text": [
      "Hello World\nHello World 2\n"
     ]
    }
   ],
   "source": [
    "var1 = \"Hello\"\n",
    "var2 = \"World\"\n",
    "# var3 = var1 + var2\n",
    "print(var1, var2, sep=' ')\n",
    "print(var1 +\" \"+ var2 +\" 2\")"
   ]
  },
  {
   "cell_type": "code",
   "execution_count": 32,
   "metadata": {},
   "outputs": [
    {
     "output_type": "stream",
     "name": "stdout",
     "text": [
      "22\n"
     ]
    }
   ],
   "source": [
    "kurang1 = 99\n",
    "kurang2 = 77\n",
    "kurang3 = kurang1 - kurang2\n",
    "print(kurang3)"
   ]
  },
  {
   "cell_type": "code",
   "execution_count": 35,
   "metadata": {},
   "outputs": [
    {
     "output_type": "stream",
     "name": "stdout",
     "text": [
      "3640\n"
     ]
    }
   ],
   "source": [
    "kali1 = 56\n",
    "kali2 = 65\n",
    "kali3 = kali1 * kali2\n",
    "print(kali3)"
   ]
  },
  {
   "cell_type": "code",
   "execution_count": 34,
   "metadata": {},
   "outputs": [
    {
     "output_type": "stream",
     "name": "stdout",
     "text": [
      "16.666666666666668\n"
     ]
    }
   ],
   "source": [
    "bagi1 = 50\n",
    "bagi2 = 3\n",
    "bagi3 = bagi1 / bagi2\n",
    "print(bagi3)"
   ]
  },
  {
   "cell_type": "code",
   "execution_count": 36,
   "metadata": {},
   "outputs": [
    {
     "output_type": "stream",
     "name": "stdout",
     "text": [
      "1\n"
     ]
    }
   ],
   "source": [
    "modul1 = 10\n",
    "modul2 = 3\n",
    "modul3 = modul1 % modul2\n",
    "print(modul3)"
   ]
  },
  {
   "cell_type": "code",
   "execution_count": 39,
   "metadata": {},
   "outputs": [
    {
     "output_type": "stream",
     "name": "stdout",
     "text": [
      "Ini habis\n"
     ]
    }
   ],
   "source": [
    "if (modul1 % 2 == 0):\n",
    "    print(\"Ini habis\")"
   ]
  },
  {
   "cell_type": "code",
   "execution_count": 42,
   "metadata": {},
   "outputs": [
    {
     "output_type": "stream",
     "name": "stdout",
     "text": [
      "1000\n"
     ]
    }
   ],
   "source": [
    "#Exponensial : Pangkat\n",
    "expo1 = 10\n",
    "expo2 = 3\n",
    "expo3 = expo1 ** expo2\n",
    "print(expo3)"
   ]
  },
  {
   "cell_type": "code",
   "execution_count": 44,
   "metadata": {},
   "outputs": [
    {
     "output_type": "stream",
     "name": "stdout",
     "text": [
      "16\n16\n"
     ]
    }
   ],
   "source": [
    "int_div = 50 / 3\n",
    "print(int(int_div))\n",
    "\n",
    "int_div = 50 // 3\n",
    "print(int_div)"
   ]
  },
  {
   "cell_type": "code",
   "execution_count": 51,
   "metadata": {},
   "outputs": [
    {
     "output_type": "stream",
     "name": "stdout",
     "text": [
      "halo\nhaloworld\n7\n"
     ]
    }
   ],
   "source": [
    "# Operator Penugasan\n",
    "satu = \"halo\"\n",
    "print(satu)\n",
    "\n",
    "satu += \"world\"\n",
    "print(satu)\n",
    "\n",
    "angka = 4\n",
    "angka += 3\n",
    "print(angka)"
   ]
  },
  {
   "cell_type": "code",
   "execution_count": 62,
   "metadata": {},
   "outputs": [
    {
     "output_type": "stream",
     "name": "stdout",
     "text": [
      "Learning Machine\nLearning Machine\n1\nLearning Machine\n2\nLearning Machine\n3\nLearning Machine\n4\nLearning Machine\n5\nLearning Machine\n6\nLearning Machine\n7\nLearning Machine\n8\nLearning Machine\n9\nLearning Machine\n"
     ]
    }
   ],
   "source": [
    "local = \"Machine Learning\"\n",
    "def Scope():\n",
    "    global local # global untuk overwrite variable yang diluar Scope(). apabila tidak ada global, variable diluar Scope() tidak akan berubah\n",
    "    local = \"Learning Machine\"\n",
    "    print(local)\n",
    "Scope()\n",
    "print(local)\n",
    "\n",
    "for i in range(1,10):\n",
    "    print(i)\n",
    "    Scope()"
   ]
  },
  {
   "cell_type": "code",
   "execution_count": 70,
   "metadata": {},
   "outputs": [
    {
     "output_type": "stream",
     "name": "stdout",
     "text": [
      "Ini False loh\n"
     ]
    }
   ],
   "source": [
    "fal_se = 0 # dalam boolean apabila menggunakan integer, 0 itu false. selain itu true\n",
    "if fal_se:\n",
    "    print(\"Ini True loh\")\n",
    "else:\n",
    "    print(\"Ini False loh\")"
   ]
  },
  {
   "source": [
    "# Operator Perbandingan"
   ],
   "cell_type": "markdown",
   "metadata": {}
  },
  {
   "cell_type": "code",
   "execution_count": 72,
   "metadata": {},
   "outputs": [
    {
     "output_type": "stream",
     "name": "stdout",
     "text": [
      "5 lebih kecil dari 6\n"
     ]
    }
   ],
   "source": [
    "if 5 < 6:\n",
    "    print(\"5 lebih kecil dari 6\")"
   ]
  },
  {
   "cell_type": "code",
   "execution_count": 76,
   "metadata": {},
   "outputs": [
    {
     "output_type": "stream",
     "name": "stdout",
     "text": [
      "Num2 != Num2\n"
     ]
    }
   ],
   "source": [
    "num1 = 5\n",
    "num2 = 7\n",
    "if(num1 == num2):\n",
    "    print(\"Num1 = Num2\")\n",
    "else:\n",
    "    print(\"Num1 != Num2\")"
   ]
  },
  {
   "cell_type": "code",
   "execution_count": 79,
   "metadata": {},
   "outputs": [
    {
     "output_type": "stream",
     "name": "stdout",
     "text": [
      "Tidak sama\n"
     ]
    }
   ],
   "source": [
    "if 7 != 8:\n",
    "    print(\"Tidak sama\")"
   ]
  },
  {
   "source": [
    "# Operasi String"
   ],
   "cell_type": "markdown",
   "metadata": {}
  },
  {
   "cell_type": "code",
   "execution_count": 97,
   "metadata": {},
   "outputs": [
    {
     "output_type": "stream",
     "name": "stdout",
     "text": [
      "Upper : HELLO\nLower : hello\nRStrip :  Hello World\nLStrip : Hello World \nStrip : Hello World\nJoin : WHellooHellorHellolHellod\nReplace : Hello Earth\n"
     ]
    }
   ],
   "source": [
    "greeting = \"Hello\"\n",
    "greeting2 = \"World\"\n",
    "greeting3 = \" Hello World \"\n",
    "print(\"Upper : \"+ greeting.upper())\n",
    "print(\"Lower : \"+ greeting.lower())\n",
    "print(\"RStrip : \"+ greeting3.rstrip()) # rstrip() menghapus di hapus sebelah kanan / akhir string\n",
    "print(\"LStrip : \"+ greeting3.lstrip()) # lstrip() menghapus di hapus sebelah kiri / awal string\n",
    "print(\"Strip : \"+ greeting3.strip()) # lstrip() menghapus di hapus sebelah kiri / awal & kanan / akhir string\n",
    "print(\"Join : \"+ greeting.join(greeting2))\n",
    "# print(\"Split : \"+ greeting.split())\n",
    "print(\"Replace : \"+ greeting3.strip().replace(\"World\", \"Earth\"))"
   ]
  },
  {
   "cell_type": "code",
   "execution_count": null,
   "metadata": {},
   "outputs": [],
   "source": []
  }
 ]
}