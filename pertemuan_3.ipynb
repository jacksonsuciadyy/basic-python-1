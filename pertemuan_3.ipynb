{
 "metadata": {
  "language_info": {
   "codemirror_mode": {
    "name": "ipython",
    "version": 3
   },
   "file_extension": ".py",
   "mimetype": "text/x-python",
   "name": "python",
   "nbconvert_exporter": "python",
   "pygments_lexer": "ipython3",
   "version": "3.9.1-final"
  },
  "orig_nbformat": 2,
  "kernelspec": {
   "name": "python3",
   "display_name": "Python 3",
   "language": "python"
  }
 },
 "nbformat": 4,
 "nbformat_minor": 2,
 "cells": [
  {
   "source": [
    "## While & For Loop"
   ],
   "cell_type": "markdown",
   "metadata": {}
  },
  {
   "cell_type": "code",
   "execution_count": 10,
   "metadata": {},
   "outputs": [
    {
     "output_type": "stream",
     "name": "stdout",
     "text": [
      "Authorized\n"
     ]
    }
   ],
   "source": [
    "password = \"r4h4s14123\"\n",
    "pw_input = \"\"\n",
    "auth = False\n",
    "count = 0\n",
    "max = 5\n",
    "\n",
    "while pw_input != password:\n",
    "    count += 1\n",
    "    if(count > max): \n",
    "        auth = False \n",
    "        break\n",
    "    pw_input = input(\"Masukkan Password: \")\n",
    "    auth = True\n",
    "\n",
    "if auth: \n",
    "    print(\"Authorized\")\n",
    "else: \n",
    "    print(\"Memanggil polisi ...\")\n"
   ]
  },
  {
   "cell_type": "code",
   "execution_count": 12,
   "metadata": {},
   "outputs": [
    {
     "output_type": "stream",
     "name": "stdout",
     "text": [
      "1\n3\n5\n7\n9\n11\n13\n15\n17\n19\n"
     ]
    }
   ],
   "source": [
    "for x in range(1, 20, 2):\n",
    "    print (x)"
   ]
  },
  {
   "cell_type": "code",
   "execution_count": 19,
   "metadata": {},
   "outputs": [
    {
     "output_type": "stream",
     "name": "stdout",
     "text": [
      "Y: 2, Z: 1\nY: 2, Z: 3\nY: 2, Z: 5\nY: 2, Z: 7\nY: 2, Z: 9\nY: 4, Z: 1\nY: 4, Z: 3\nY: 4, Z: 5\nY: 4, Z: 7\nY: 4, Z: 9\nY: 6, Z: 1\nY: 6, Z: 3\nY: 6, Z: 5\nY: 6, Z: 7\nY: 6, Z: 9\nY: 8, Z: 1\nY: 8, Z: 3\nY: 8, Z: 5\nY: 8, Z: 7\nY: 8, Z: 9\n"
     ]
    }
   ],
   "source": [
    "for y in range(1, 10):\n",
    "    if(y % 2 == 0):\n",
    "        for z in range(1, 10, 2):\n",
    "            print(f\"Y: {y}, Z: {z}\")"
   ]
  },
  {
   "source": [
    "## Function"
   ],
   "cell_type": "markdown",
   "metadata": {}
  },
  {
   "cell_type": "code",
   "execution_count": 21,
   "metadata": {},
   "outputs": [
    {
     "output_type": "stream",
     "name": "stdout",
     "text": [
      "Say Something...\n"
     ]
    }
   ],
   "source": [
    "## Define Function\n",
    "def main():\n",
    "    print(\"Say Something...\")\n",
    "\n",
    "## Calling Function\n",
    "main()"
   ]
  },
  {
   "cell_type": "code",
   "execution_count": 23,
   "metadata": {},
   "outputs": [
    {
     "output_type": "stream",
     "name": "stdout",
     "text": [
      "10\n"
     ]
    }
   ],
   "source": [
    "## Define Function with Parameter\n",
    "def perkalian(x, y):\n",
    "    print(x * y)\n",
    "\n",
    "## Calling Function\n",
    "perkalian(5, 2)"
   ]
  },
  {
   "cell_type": "code",
   "execution_count": 40,
   "metadata": {},
   "outputs": [
    {
     "output_type": "stream",
     "name": "stdout",
     "text": [
      "3 4 5 6 7 8 9 10 11 12 13 14 15 16 17 18 19 20 21 22 23 24 25 26 27 28 29 30 31 32 33 34 35 36 37 38 39 40 41 42 43 44 45 46 47 48 49 50 51 52 53 54 55 56 57 58 59 60 61 62 63 64 65 66 67 68 69 70 71 72 73 74 75 76 77 78 79 80 81 82 83 84 85 86 87 88 89 90 91 92 93 94 95 96 97 98 99 "
     ]
    }
   ],
   "source": [
    "## Pengecekkan bilangan Prima\n",
    "def isPrime(x):\n",
    "    if(x <= 1):\n",
    "        return False\n",
    "    for x in range(2, x):\n",
    "        if( n % x) == 0:\n",
    "            return False\n",
    "        else:\n",
    "            return True\n",
    "\n",
    "def primeNumberList():\n",
    "    for x in range (1, 100):\n",
    "        if(isPrime(x)):\n",
    "            # end -> supaya print jadi 1 baris aja dan bisa ada pemisahnya antar yang di print\n",
    "            # print(x, end = \"-\")\n",
    "            print(x, end = \" \")\n",
    "\n",
    "primeNumberList()\n",
    "\n",
    "# n = 15\n",
    "# if isPrime(n):\n",
    "#     print(f\"{n} adalah Bilangan Prima\")\n",
    "# else:\n",
    "#     print(f\"{n} bukan Bilangan Prima\")"
   ]
  },
  {
   "cell_type": "code",
   "execution_count": 33,
   "metadata": {},
   "outputs": [
    {
     "output_type": "stream",
     "name": "stdout",
     "text": [
      "9\n"
     ]
    }
   ],
   "source": [
    "def tambah(x, y):\n",
    "    return x + y\n",
    "\n",
    "print(tambah(4, 5))"
   ]
  },
  {
   "source": [
    "### Default Parameter"
   ],
   "cell_type": "markdown",
   "metadata": {}
  },
  {
   "cell_type": "code",
   "execution_count": 47,
   "metadata": {},
   "outputs": [
    {
     "output_type": "stream",
     "name": "stdout",
     "text": [
      "Halo\nSelamat Pagi\n"
     ]
    }
   ],
   "source": [
    "def greeting(ucapan = \"Halo\"):\n",
    "    print(ucapan)\n",
    "\n",
    "greeting()\n",
    "greeting(\"Selamat Pagi\")"
   ]
  },
  {
   "cell_type": "code",
   "execution_count": 52,
   "metadata": {},
   "outputs": [
    {
     "output_type": "stream",
     "name": "stdout",
     "text": [
      "Sekarang pukul 6, Selamat Sore\n"
     ]
    }
   ],
   "source": [
    "def greeting(ucapan, jam = 6):\n",
    "    print(f\"Sekarang pukul {jam}, {ucapan}\")\n",
    "\n",
    "greeting(ucapan = \"Selamat Sore\")"
   ]
  },
  {
   "cell_type": "code",
   "execution_count": 53,
   "metadata": {},
   "outputs": [
    {
     "output_type": "stream",
     "name": "stdout",
     "text": [
      "Sekarang pukul 6, Selamat Sore\n"
     ]
    }
   ],
   "source": [
    "def greeting(ucapan, jam):\n",
    "    print(f\"Sekarang pukul {jam}, {ucapan}\")\n",
    "\n",
    "greeting(jam = 6, ucapan = \"Selamat Sore\")"
   ]
  },
  {
   "source": [
    "## **KWARGS"
   ],
   "cell_type": "markdown",
   "metadata": {}
  },
  {
   "cell_type": "code",
   "execution_count": 67,
   "metadata": {},
   "outputs": [
    {
     "output_type": "stream",
     "name": "stdout",
     "text": [
      "Makan Pagi dengan 'Kentang Goreng'\nMakan Siang dengan 'Rendang'\nMakan Malam dengan 'Geprek'\n"
     ]
    }
   ],
   "source": [
    "def main():\n",
    "    x = dict(Pagi = 'Kentang Goreng', Siang = 'Rendang', Malam = 'Geprek')\n",
    "    makanan(**x)\n",
    "\n",
    "def makanan(**kwargs):\n",
    "    if(len(kwargs)):\n",
    "        for k in kwargs:\n",
    "            print(f\"Makan {k} dengan '{kwargs[k]}'\")\n",
    "    else:\n",
    "        print(\"Rendang\")\n",
    "\n",
    "main()"
   ]
  },
  {
   "cell_type": "code",
   "execution_count": 65,
   "metadata": {},
   "outputs": [
    {
     "output_type": "stream",
     "name": "stdout",
     "text": [
      "Saya tadi Pagi makan Soto\nSaya tadi Siang makan Bakso\n"
     ]
    }
   ],
   "source": [
    "dic = {'Pagi': 'Soto', 'Siang': 'Bakso'}\n",
    "for i, v in dic.items():\n",
    "    print(f\"Saya tadi {i} makan {v}\")"
   ]
  },
  {
   "source": [
    "## Anonymous Function"
   ],
   "cell_type": "markdown",
   "metadata": {}
  },
  {
   "cell_type": "code",
   "execution_count": 75,
   "metadata": {},
   "outputs": [
    {
     "output_type": "stream",
     "name": "stdout",
     "text": [
      "42\n"
     ]
    }
   ],
   "source": [
    "a = lambda x,y: print(7 * 6)\n",
    "a(1,2)"
   ]
  },
  {
   "source": [
    "## Scope"
   ],
   "cell_type": "markdown",
   "metadata": {}
  },
  {
   "cell_type": "code",
   "execution_count": 78,
   "metadata": {},
   "outputs": [
    {
     "output_type": "stream",
     "name": "stdout",
     "text": [
      "Halo\nHola\n"
     ]
    }
   ],
   "source": [
    "x = \"Halo\"\n",
    "def greet():\n",
    "    x = \"Hola\"\n",
    "    print(x)\n",
    "\n",
    "print(x)\n",
    "greet()"
   ]
  },
  {
   "cell_type": "code",
   "execution_count": null,
   "metadata": {},
   "outputs": [],
   "source": []
  },
  {
   "source": [
    "## Modules"
   ],
   "cell_type": "markdown",
   "metadata": {}
  },
  {
   "cell_type": "code",
   "execution_count": 79,
   "metadata": {},
   "outputs": [
    {
     "output_type": "stream",
     "name": "stdout",
     "text": [
      "3.141592653589793\n"
     ]
    }
   ],
   "source": [
    "import math\n",
    "\n",
    "pi = math.pi\n",
    "print(pi)"
   ]
  }
 ]
}