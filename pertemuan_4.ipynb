{
 "metadata": {
  "language_info": {
   "codemirror_mode": {
    "name": "ipython",
    "version": 3
   },
   "file_extension": ".py",
   "mimetype": "text/x-python",
   "name": "python",
   "nbconvert_exporter": "python",
   "pygments_lexer": "ipython3",
   "version": "3.9.1-final"
  },
  "orig_nbformat": 2,
  "kernelspec": {
   "name": "python3",
   "display_name": "Python 3",
   "language": "python"
  }
 },
 "nbformat": 4,
 "nbformat_minor": 2,
 "cells": [
  {
   "source": [
    "## Menggabungkan Kondisi"
   ],
   "cell_type": "markdown",
   "metadata": {}
  },
  {
   "source": [
    "### and"
   ],
   "cell_type": "markdown",
   "metadata": {}
  },
  {
   "cell_type": "code",
   "execution_count": 14,
   "metadata": {},
   "outputs": [
    {
     "output_type": "stream",
     "name": "stdout",
     "text": [
      "Anda tinggal kelas\n"
     ]
    }
   ],
   "source": [
    "masuk = 8\n",
    "max = 11\n",
    "inputJamMasuk = int(input(\"Anda masuk pukul berapa? \"))\n",
    "\n",
    "while(inputJamMasuk<masuk):\n",
    "    print(\"Anda terlalu cepat datang\")\n",
    "    break\n",
    "while(inputJamMasuk == masuk):\n",
    "    print(\"Anda datang tepat waktu\")\n",
    "    break\n",
    "# while(inputJamMasuk > masuk and inputJamMasuk <= max):\n",
    "while(inputJamMasuk > masuk > max):\n",
    "    print(\"Anda terlambat, jangan ulangi lagi\")\n",
    "    break\n",
    "while(inputJamMasuk > max):\n",
    "    print(\"Anda tinggal kelas\")\n",
    "    break"
   ]
  },
  {
   "cell_type": "code",
   "execution_count": 17,
   "metadata": {},
   "outputs": [
    {
     "output_type": "stream",
     "name": "stdout",
     "text": [
      "False\n"
     ]
    }
   ],
   "source": [
    "a = 11\n",
    "b = 23\n",
    "c = 99\n",
    "\n",
    "print(a < b and c < b)\n"
   ]
  },
  {
   "source": [
    "### or"
   ],
   "cell_type": "markdown",
   "metadata": {}
  },
  {
   "cell_type": "code",
   "execution_count": 21,
   "metadata": {},
   "outputs": [
    {
     "output_type": "stream",
     "name": "stdout",
     "text": [
      "True\n"
     ]
    }
   ],
   "source": [
    "print(a < b or c < b)"
   ]
  },
  {
   "source": [
    "### not"
   ],
   "cell_type": "markdown",
   "metadata": {}
  },
  {
   "cell_type": "code",
   "execution_count": 27,
   "metadata": {},
   "outputs": [],
   "source": [
    "sandi = \"halo123\"\n",
    "\n",
    "input_pw = input(\"Masukkan Password Anda: \")\n",
    "\n",
    "if(input_pw == sandi):\n",
    "    print(\"Berhasil Login\")\n",
    "elif((input_pw != sandi)):\n",
    "    print(\"Gagal Login\")"
   ]
  },
  {
   "cell_type": "code",
   "execution_count": 28,
   "metadata": {},
   "outputs": [
    {
     "output_type": "stream",
     "name": "stdout",
     "text": [
      "True\n"
     ]
    }
   ],
   "source": [
    "x = False\n",
    "\n",
    "print(not x) # hasil-nya True"
   ]
  },
  {
   "source": [
    "## Random"
   ],
   "cell_type": "markdown",
   "metadata": {}
  },
  {
   "cell_type": "code",
   "execution_count": 51,
   "metadata": {},
   "outputs": [
    {
     "output_type": "stream",
     "name": "stdout",
     "text": [
      "10\n6\n"
     ]
    }
   ],
   "source": [
    "# import random\n",
    "# print(random.randint(0, 10)) # print angka antara [0, 1, 2, 3, 4, 5, 6, 7, 8, 9, 10]\n",
    "# print(random.randrange(0, 10, 2)) # print angka antara [0, 2, 4, 6, 8, 10]\n",
    "\n",
    "from random randint, randrange\n",
    "print(randint(0, 10)) # print angka antara [0, 1, 2, 3, 4, 5, 6, 7, 8, 9, 10]\n",
    "print(randrange(0, 10, 2)) # print angka antara [0, 2, 4, 6, 8, 10]\n"
   ]
  },
  {
   "source": [
    "## Data Type"
   ],
   "cell_type": "markdown",
   "metadata": {}
  },
  {
   "source": [
    "### List"
   ],
   "cell_type": "markdown",
   "metadata": {}
  },
  {
   "cell_type": "code",
   "execution_count": 66,
   "metadata": {},
   "outputs": [
    {
     "output_type": "stream",
     "name": "stdout",
     "text": [
      "<class 'list'>\n['Jakarta', 'Bandung', 'Bogor', 'Bekasi']\nBogor\n['Jakarta', 'Bandung']\nJakarta\n"
     ]
    }
   ],
   "source": [
    "import random\n",
    "\n",
    "list = ['Jakarta', 'Bandung', 'Bogor', 'Bekasi']\n",
    "print(type(list))\n",
    "print(list)\n",
    "print(list[-1]) # Bekasi\n",
    "print(list[-2]) # Bogor\n",
    "print(list[0:2]) # Jakarta, Bandung\n",
    "print(list[random.randint(0,3)]) # Random Index"
   ]
  },
  {
   "cell_type": "code",
   "execution_count": 67,
   "metadata": {},
   "outputs": [
    {
     "output_type": "stream",
     "name": "stdout",
     "text": [
      "['Jakarta', 'Bandung', 'Bogor', 'Bekasi', 'Tangerang']\n"
     ]
    }
   ],
   "source": [
    "# Add Item\n",
    "list.append(\"Tangerang\")\n",
    "print(list)"
   ]
  },
  {
   "cell_type": "code",
   "execution_count": 68,
   "metadata": {},
   "outputs": [
    {
     "output_type": "stream",
     "name": "stdout",
     "text": [
      "['Jakarta', 'Bogor', 'Bekasi', 'Tangerang']\n"
     ]
    }
   ],
   "source": [
    "# Delete Item\n",
    "del list[1]\n",
    "print(list)"
   ]
  },
  {
   "cell_type": "code",
   "execution_count": 73,
   "metadata": {},
   "outputs": [
    {
     "output_type": "stream",
     "name": "stdout",
     "text": [
      "4\n"
     ]
    }
   ],
   "source": [
    "# Length List\n",
    "print(len(list))"
   ]
  },
  {
   "cell_type": "code",
   "execution_count": 75,
   "metadata": {},
   "outputs": [],
   "source": [
    "list[0] = \"Depok\" # Ganti Jakarta jadi Depok"
   ]
  },
  {
   "cell_type": "code",
   "execution_count": 76,
   "metadata": {},
   "outputs": [
    {
     "output_type": "stream",
     "name": "stdout",
     "text": [
      "Saya ingin ke Depok\nSaya ingin ke Bogor\nSaya ingin ke Bekasi\nSaya ingin ke Tangerang\n"
     ]
    }
   ],
   "source": [
    "# Looping\n",
    "for x in list:\n",
    "    print(f\"Saya ingin ke {x}\")"
   ]
  },
  {
   "source": [
    "## Dictionary"
   ],
   "cell_type": "markdown",
   "metadata": {}
  },
  {
   "cell_type": "code",
   "execution_count": 79,
   "metadata": {},
   "outputs": [
    {
     "output_type": "stream",
     "name": "stdout",
     "text": [
      "<class 'dict'>\n{'Nama': 'Budi', 'Kelas': '1', 'Alamat': 'Jakarta'}\nBudi\n"
     ]
    }
   ],
   "source": [
    "bio = {'Nama': 'Budi', 'Kelas': '1', 'Alamat': 'Jakarta'}\n",
    "print(type(bio))\n",
    "print(bio)\n",
    "print(bio['Nama'])"
   ]
  },
  {
   "cell_type": "code",
   "execution_count": 80,
   "metadata": {},
   "outputs": [
    {
     "output_type": "stream",
     "name": "stdout",
     "text": [
      "{'Nama': 'Budi', 'Kelas': '1', 'Alamat': 'Jakarta', 'Tinggi': 120}\n"
     ]
    }
   ],
   "source": [
    "# Add Element into Dictionary\n",
    "bio['Tinggi'] = 120\n",
    "print(bio)"
   ]
  },
  {
   "cell_type": "code",
   "execution_count": 81,
   "metadata": {},
   "outputs": [
    {
     "output_type": "stream",
     "name": "stdout",
     "text": [
      "{'Nama': 'Budi', 'Kelas': '1', 'Alamat': 'Jakarta', 'Tinggi': 160}\n"
     ]
    }
   ],
   "source": [
    "# Edit Element in Dictionary\n",
    "bio['Tinggi'] = 160\n",
    "print(bio)"
   ]
  },
  {
   "cell_type": "code",
   "execution_count": 85,
   "metadata": {},
   "outputs": [
    {
     "output_type": "stream",
     "name": "stdout",
     "text": [
      "Biodata\nNama: Budi\nKelas: 1\nAlamat: Jakarta\nTinggi: 160\n"
     ]
    }
   ],
   "source": [
    "# Looping Dictionary\n",
    "print(\"Biodata\")\n",
    "for key, value in bio.items():\n",
    "    print(key, value, sep=\": \")"
   ]
  },
  {
   "cell_type": "code",
   "execution_count": 90,
   "metadata": {},
   "outputs": [
    {
     "output_type": "stream",
     "name": "stdout",
     "text": [
      "{1: {'Nama': 'Andi', 'Umur': 30, 'Alamat': 'Jakarta', 'Pekerjaan': 'Developer'}, 2: {'Nama': 'Budi', 'Umur': 20, 'Alamat': 'Bandung', 'Pekerjaan': 'Mahasiswa'}, 3: {'Nama': 'Siti', 'Umur': 35, 'Alamat': 'Tangerang', 'Pekerjaan': 'Manager'}}\n"
     ]
    }
   ],
   "source": [
    "users = {\n",
    "    1: {\n",
    "        'Nama': 'Andi',\n",
    "        'Umur': 30,\n",
    "        'Alamat': 'Jakarta',\n",
    "        'Pekerjaan': 'Developer',\n",
    "    },\n",
    "    2: {\n",
    "        'Nama': 'Budi',\n",
    "        'Umur': 20,\n",
    "        'Alamat': 'Bandung',\n",
    "        'Pekerjaan': 'Mahasiswa',\n",
    "    },\n",
    "    3: {\n",
    "        'Nama': 'Siti',\n",
    "        'Umur': 35,\n",
    "        'Alamat': 'Tangerang',\n",
    "        'Pekerjaan': 'Manager',\n",
    "    }\n",
    "}\n",
    "print(users)"
   ]
  },
  {
   "cell_type": "code",
   "execution_count": 100,
   "metadata": {},
   "outputs": [
    {
     "output_type": "stream",
     "name": "stdout",
     "text": [
      "1 {'Nama': 'Andi', 'Umur': 30, 'Alamat': 'Jakarta', 'Pekerjaan': 'Developer'}\nNama: Andi\nUmur: 30\nAlamat: Jakarta\nPekerjaan: Developer\n \n2 {'Nama': 'Budi', 'Umur': 20, 'Alamat': 'Bandung', 'Pekerjaan': 'Mahasiswa'}\nNama: Budi\nUmur: 20\nAlamat: Bandung\nPekerjaan: Mahasiswa\n \n3 {'Nama': 'Siti', 'Umur': 35, 'Alamat': 'Tangerang', 'Pekerjaan': 'Manager'}\nNama: Siti\nUmur: 35\nAlamat: Tangerang\nPekerjaan: Manager\n \n"
     ]
    }
   ],
   "source": [
    "for key, value in users.items():\n",
    "    print(key, value)\n",
    "    for key, user in value.items():\n",
    "        print(key, user, sep=\": \")\n",
    "    print(\" \")"
   ]
  },
  {
   "cell_type": "code",
   "execution_count": 99,
   "metadata": {},
   "outputs": [
    {
     "output_type": "stream",
     "name": "stdout",
     "text": [
      "Nama: Andi\nUmur: 30\nAlamat: Jakarta\nPekerjaan: Developer\n \nNama: Budi\nUmur: 20\nAlamat: Bandung\nPekerjaan: Mahasiswa\n \nNama: Siti\nUmur: 35\nAlamat: Tangerang\nPekerjaan: Manager\n \n"
     ]
    }
   ],
   "source": [
    "for key, value in users.items():\n",
    "    for key2 in value:\n",
    "        print(key2, value[key2], sep=\": \")\n",
    "    print(\" \")"
   ]
  },
  {
   "source": [
    "## KWARGS"
   ],
   "cell_type": "markdown",
   "metadata": {}
  },
  {
   "cell_type": "code",
   "execution_count": 110,
   "metadata": {},
   "outputs": [
    {
     "output_type": "stream",
     "name": "stdout",
     "text": [
      "Nama: Jeruk\nHarga: Murah\n"
     ]
    }
   ],
   "source": [
    "def myFunc(**fruits):\n",
    "    for x, y in fruits.items():\n",
    "        print(x, y, sep=\": \")\n",
    "keyword = {'Nama': 'Jeruk', 'Harga' : 'Murah'}\n",
    "myFunc(**keyword)"
   ]
  },
  {
   "source": [
    "## Tuple ( Immutable List)"
   ],
   "cell_type": "markdown",
   "metadata": {}
  },
  {
   "cell_type": "code",
   "execution_count": 113,
   "metadata": {},
   "outputs": [
    {
     "output_type": "stream",
     "name": "stdout",
     "text": [
      "<class 'tuple'>\n('Jakarta', 'Bogor', 'Depok', 'Tangerang', 'Bekasi')\n"
     ]
    }
   ],
   "source": [
    "myTup = (\"Jakarta\", \"Bogor\", \"Depok\", \"Tangerang\", \"Bekasi\")\n",
    "print(type(myTup))\n",
    "print(myTup)"
   ]
  },
  {
   "cell_type": "code",
   "execution_count": 119,
   "metadata": {},
   "outputs": [
    {
     "output_type": "stream",
     "name": "stdout",
     "text": [
      "('Jakarta', 'Bogor', 'Depok', 'Tangerang')\n"
     ]
    }
   ],
   "source": [
    "print(myTup[0:4])"
   ]
  },
  {
   "source": [
    "### ARGS"
   ],
   "cell_type": "markdown",
   "metadata": {}
  },
  {
   "cell_type": "code",
   "execution_count": 134,
   "metadata": {},
   "outputs": [
    {
     "output_type": "stream",
     "name": "stdout",
     "text": [
      "<class 'tuple'>\n",
      "('Halo', 'Selamat Pagi', 'Selamat Siang', 'Selamat Sore', 'Selamat Malam')\n",
      "Selamat Siang\n",
      "Halo, Selamat Malam\n"
     ]
    }
   ],
   "source": [
    "def myFunc1(*ucapan):\n",
    "    print(type(ucapan)) # *ARGS pasti Type-nya 'Tuple'\n",
    "    print(ucapan)\n",
    "    print(ucapan[2])\n",
    "\n",
    "    input_jam = int(input(\"Masukkan Pukul Berapa Sekarang: \"))\n",
    "    if(input_jam > 5 and input_jam <= 11):\n",
    "        print(ucapan[0], ucapan[1], sep=\", \")\n",
    "    elif(input_jam > 11 and input_jam <= 15):\n",
    "         print(ucapan[0], ucapan[2], sep=\", \")\n",
    "    elif(input_jam > 15 and input_jam <= 18):\n",
    "         print(ucapan[0], ucapan[3], sep=\", \")\n",
    "    elif(input_jam > 18 and input_jam <= 24):\n",
    "         print(ucapan[0], ucapan[4], sep=\", \")\n",
    "\n",
    "myFunc1(\"Halo\", \"Selamat Pagi\", \"Selamat Siang\", \"Selamat Sore\", \"Selamat Malam\")"
   ]
  },
  {
   "source": [
    "## Set"
   ],
   "cell_type": "markdown",
   "metadata": {}
  },
  {
   "cell_type": "code",
   "execution_count": 137,
   "metadata": {},
   "outputs": [
    {
     "output_type": "stream",
     "name": "stdout",
     "text": [
      "<class 'set'>\n{'Bogor', 'Jakarta', 'Bekasi', 'Tangerang', 'Depok'}\n"
     ]
    }
   ],
   "source": [
    "mySet = {\"Jakarta\", \"Bogor\", \"Depok\",\"Tangerang\",\"Bekasi\"}\n",
    "print(type(mySet))\n",
    "print(mySet)"
   ]
  },
  {
   "cell_type": "code",
   "execution_count": 138,
   "metadata": {},
   "outputs": [
    {
     "output_type": "stream",
     "name": "stdout",
     "text": [
      "{'Bogor', 'Jakarta', 'Bekasi', 'Tangerang', 'Bandung', 'Depok'}\n"
     ]
    }
   ],
   "source": [
    "mySet.add(\"Bandung\")\n",
    "print(mySet)"
   ]
  },
  {
   "cell_type": "code",
   "execution_count": 139,
   "metadata": {},
   "outputs": [
    {
     "output_type": "stream",
     "name": "stdout",
     "text": [
      "{'Bogor', 'Jakarta', 'Bekasi', 'Tangerang', 'Bandung'}\n"
     ]
    }
   ],
   "source": [
    "mySet.remove(\"Depok\")\n",
    "print(mySet)"
   ]
  },
  {
   "cell_type": "code",
   "execution_count": 140,
   "metadata": {},
   "outputs": [
    {
     "output_type": "stream",
     "name": "stdout",
     "text": [
      "{'Bogor', 'Jakarta', 'Bekasi', 'Tangerang', 'Bandung'}\n"
     ]
    }
   ],
   "source": [
    "mySet.add(\"Jakarta\")\n",
    "print(mySet)"
   ]
  },
  {
   "cell_type": "code",
   "execution_count": 147,
   "metadata": {},
   "outputs": [
    {
     "output_type": "stream",
     "name": "stdout",
     "text": [
      "{0, 1, 2, 3, 4, 5, 6, 7, 8}\n{1, 2}\n{0, 1, 2, 3, 4, 5, 6, 7, 8, 10, 12, 13}\n"
     ]
    }
   ],
   "source": [
    "myNum = {1,2,3,4,5,6,7,2,2,6,7,7,3,5,8,0,1,2,3}\n",
    "myNum2 = {1,2,10,12,13}\n",
    "print(myNum)\n",
    "print(myNum & myNum2) # Irisan\n",
    "print(myNum | myNum2) # Gabungan"
   ]
  }
 ]
}