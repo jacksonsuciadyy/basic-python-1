{
 "metadata": {
  "language_info": {
   "codemirror_mode": {
    "name": "ipython",
    "version": 3
   },
   "file_extension": ".py",
   "mimetype": "text/x-python",
   "name": "python",
   "nbconvert_exporter": "python",
   "pygments_lexer": "ipython3",
   "version": "3.9.1-final"
  },
  "orig_nbformat": 2,
  "kernelspec": {
   "name": "python3",
   "display_name": "Python 3",
   "language": "python"
  }
 },
 "nbformat": 4,
 "nbformat_minor": 2,
 "cells": [
  {
   "source": [
    "## Konversi antar tipe data"
   ],
   "cell_type": "markdown",
   "metadata": {}
  },
  {
   "source": [
    "### Integer :  "
   ],
   "cell_type": "markdown",
   "metadata": {}
  },
  {
   "cell_type": "code",
   "execution_count": 6,
   "metadata": {},
   "outputs": [
    {
     "output_type": "stream",
     "name": "stdout",
     "text": [
      "123456\n"
     ]
    }
   ],
   "source": [
    "num = \"123456\"\n",
    "print(int(num))"
   ]
  },
  {
   "cell_type": "code",
   "execution_count": 4,
   "metadata": {},
   "outputs": [
    {
     "output_type": "error",
     "ename": "ValueError",
     "evalue": "invalid literal for int() with base 10: 'pagi'",
     "traceback": [
      "\u001b[1;31m---------------------------------------------------------------------------\u001b[0m",
      "\u001b[1;31mValueError\u001b[0m                                Traceback (most recent call last)",
      "\u001b[1;32m<ipython-input-4-26fd6f6ca6fb>\u001b[0m in \u001b[0;36m<module>\u001b[1;34m\u001b[0m\n\u001b[0;32m      1\u001b[0m \u001b[0mhalo\u001b[0m \u001b[1;33m=\u001b[0m \u001b[1;34m\"pagi\"\u001b[0m\u001b[1;33m\u001b[0m\u001b[1;33m\u001b[0m\u001b[0m\n\u001b[1;32m----> 2\u001b[1;33m \u001b[0mprint\u001b[0m\u001b[1;33m(\u001b[0m\u001b[0mint\u001b[0m\u001b[1;33m(\u001b[0m\u001b[0mhalo\u001b[0m\u001b[1;33m)\u001b[0m\u001b[1;33m)\u001b[0m\u001b[1;33m\u001b[0m\u001b[1;33m\u001b[0m\u001b[0m\n\u001b[0m",
      "\u001b[1;31mValueError\u001b[0m: invalid literal for int() with base 10: 'pagi'"
     ]
    }
   ],
   "source": [
    "sapa = \"pagi\"\n",
    "print(int(halo))"
   ]
  },
  {
   "cell_type": "code",
   "execution_count": 7,
   "metadata": {},
   "outputs": [
    {
     "output_type": "stream",
     "name": "stdout",
     "text": [
      "10\n"
     ]
    }
   ],
   "source": [
    "dec = 10.5\n",
    "print(int(dec))"
   ]
  },
  {
   "source": [
    "## Float :"
   ],
   "cell_type": "markdown",
   "metadata": {}
  },
  {
   "cell_type": "code",
   "execution_count": 8,
   "metadata": {},
   "outputs": [
    {
     "output_type": "stream",
     "name": "stdout",
     "text": [
      "80.0\n"
     ]
    }
   ],
   "source": [
    "integer = 80\n",
    "print(float(integer))"
   ]
  },
  {
   "source": [
    "## String:"
   ],
   "cell_type": "markdown",
   "metadata": {}
  },
  {
   "cell_type": "code",
   "execution_count": 13,
   "metadata": {},
   "outputs": [
    {
     "output_type": "stream",
     "name": "stdout",
     "text": [
      "<class 'int'>\n<class 'str'>\n"
     ]
    }
   ],
   "source": [
    "angka = 6754\n",
    "print(type(angka))\n",
    "str_var = str(angka)\n",
    "print(type(str(angka)))\n",
    "print(str_var)"
   ]
  },
  {
   "cell_type": "code",
   "execution_count": 14,
   "metadata": {},
   "outputs": [
    {
     "output_type": "stream",
     "name": "stdout",
     "text": [
      "<class 'float'>\n<class 'str'>\n23.9\n"
     ]
    }
   ],
   "source": [
    "fl = 23.9\n",
    "print(type(fl))\n",
    "fl_str = str(fl)\n",
    "print(type(fl_str))\n",
    "print(fl_str)"
   ]
  },
  {
   "source": [
    "## String Formatting dan Argument Specifier"
   ],
   "cell_type": "markdown",
   "metadata": {}
  },
  {
   "cell_type": "code",
   "execution_count": 20,
   "metadata": {},
   "outputs": [
    {
     "output_type": "stream",
     "name": "stdout",
     "text": [
      "Nilai anda : 100\n"
     ]
    }
   ],
   "source": [
    "nilai = 100\n",
    "print(\"Nilai anda : %d\"%nilai)"
   ]
  },
  {
   "cell_type": "code",
   "execution_count": 27,
   "metadata": {},
   "outputs": [],
   "source": [
    "from datetime import datetime"
   ]
  },
  {
   "cell_type": "code",
   "execution_count": 30,
   "metadata": {},
   "outputs": [
    {
     "output_type": "stream",
     "name": "stdout",
     "text": [
      "2021-01-10 13:32:36.167217\n<class 'datetime.datetime'>\n"
     ]
    }
   ],
   "source": [
    "date = datetime.now()\n",
    "print(date)\n",
    "print(type(date))"
   ]
  },
  {
   "cell_type": "code",
   "execution_count": 41,
   "metadata": {},
   "outputs": [
    {
     "output_type": "stream",
     "name": "stdout",
     "text": [
      "Hari ini (yy/MM/dd) : 2021/January/10\n"
     ]
    }
   ],
   "source": [
    "strdate = date.strftime(\"Hari ini (yy/MM/dd) : %Y/%B/%d\")\n",
    "print(strdate)"
   ]
  },
  {
   "cell_type": "code",
   "execution_count": null,
   "metadata": {},
   "outputs": [],
   "source": []
  },
  {
   "cell_type": "code",
   "execution_count": 47,
   "metadata": {},
   "outputs": [
    {
     "output_type": "stream",
     "name": "stdout",
     "text": [
      "Ucapkanlah Selamat Malam, lalu tidur pada pukul: 10\n"
     ]
    }
   ],
   "source": [
    "greet = \"Selamat Malam\"\n",
    "jam = 10\n",
    "print(\"Ucapkanlah {}, lalu tidur pada pukul: {}\".format(greet, jam))"
   ]
  },
  {
   "source": [
    "## User Input"
   ],
   "cell_type": "markdown",
   "metadata": {}
  },
  {
   "cell_type": "code",
   "execution_count": 1,
   "metadata": {},
   "outputs": [
    {
     "output_type": "stream",
     "name": "stdout",
     "text": [
      "masuk\n"
     ]
    }
   ],
   "source": [
    "submit = input(\"Masukkan nama: \")\n",
    "print(submit)"
   ]
  },
  {
   "cell_type": "code",
   "execution_count": 6,
   "metadata": {},
   "outputs": [
    {
     "output_type": "stream",
     "name": "stdout",
     "text": [
      "Hasil penjumlahan adalah :  11\n"
     ]
    }
   ],
   "source": [
    "submit2 = int(input(\"Masukkan Angka pertama: \"))\n",
    "submit3 = int(input(\"Masukkan Angka kedua: \"))\n",
    "tambah = submit2 + submit3\n",
    "print(\"Hasil penjumlahan adalah : \", tambah)"
   ]
  },
  {
   "source": [
    "## Flow Control"
   ],
   "cell_type": "markdown",
   "metadata": {}
  },
  {
   "cell_type": "code",
   "execution_count": 11,
   "metadata": {},
   "outputs": [
    {
     "output_type": "stream",
     "name": "stdout",
     "text": [
      "60 > 50\n"
     ]
    }
   ],
   "source": [
    "num1 = 40\n",
    "num2 = 50\n",
    "if num1 > num2:\n",
    "    print(\"{} > {}\".format(num1, num2))\n",
    "else:\n",
    "    print(\"{} < {}\".format(num1, num2))"
   ]
  },
  {
   "cell_type": "code",
   "execution_count": 15,
   "metadata": {},
   "outputs": [
    {
     "output_type": "stream",
     "name": "stdout",
     "text": [
      "Anda datang tepat waktu!\n"
     ]
    }
   ],
   "source": [
    "input_waktu = int(input(\"Anda datang pukul berapa? \"))\n",
    "jam_masuk = 7\n",
    "\n",
    "if input_waktu < jam_masuk:\n",
    "    print(\"Anda sangat bersemangat pergi bekerja, mantap!\")\n",
    "elif input_waktu == jam_masuk:\n",
    "    print(\"Anda datang tepat waktu!\")\n",
    "else:\n",
    "    print(\"Anda terlambat!\")"
   ]
  },
  {
   "source": [
    "## Looping"
   ],
   "cell_type": "markdown",
   "metadata": {}
  },
  {
   "source": [
    "### For Loop"
   ],
   "cell_type": "markdown",
   "metadata": {}
  },
  {
   "cell_type": "code",
   "execution_count": 19,
   "metadata": {},
   "outputs": [
    {
     "output_type": "stream",
     "name": "stdout",
     "text": [
      "Saya suka makan Kebab\nSaya suka makan Isy\nSaya suka makan Burger\nSaya suka makan Nasi Padang\n"
     ]
    }
   ],
   "source": [
    "list_makanan = ['Kebab', 'Isy', 'Burger', 'Nasi Padang']\n",
    "for makanan in list_makanan:\n",
    "    print(\"Saya suka makan {}\".format(makanan))"
   ]
  },
  {
   "cell_type": "code",
   "execution_count": 24,
   "metadata": {},
   "outputs": [
    {
     "output_type": "stream",
     "name": "stdout",
     "text": [
      "0 Kebab\n1 Kebab\n1 Isy\n2 Isy\n2 Burger\n3 Burger\n3 Nasi Padang\n4 Nasi Padang\n"
     ]
    }
   ],
   "source": [
    "for index, food in enumerate(list_makanan):\n",
    "    print(index, food)\n",
    "    print(index + 1, food)"
   ]
  },
  {
   "cell_type": "code",
   "execution_count": 34,
   "metadata": {},
   "outputs": [
    {
     "output_type": "stream",
     "name": "stdout",
     "text": [
      "    January 2021\nSu Mo Tu We Th Fr Sa\n                1  2\n 3  4  5  6  7  8  9\n10 11 12 13 14 15 16\n17 18 19 20 21 22 23\n24 25 26 27 28 29 30\n31\n\n"
     ]
    }
   ],
   "source": [
    "import calendar\n",
    "cal = calendar.TextCalendar(calendar.SUNDAY)\n",
    "month = cal.formatmonth(2021, 1, 0 ,0)\n",
    "print(month)"
   ]
  },
  {
   "cell_type": "code",
   "execution_count": 35,
   "metadata": {},
   "outputs": [
    {
     "output_type": "stream",
     "name": "stdout",
     "text": [
      "<table border=\"0\" cellpadding=\"0\" cellspacing=\"0\" class=\"month\">\n<tr><th colspan=\"7\" class=\"month\">January</th></tr>\n<tr><th class=\"sun\">Sun</th><th class=\"mon\">Mon</th><th class=\"tue\">Tue</th><th class=\"wed\">Wed</th><th class=\"thu\">Thu</th><th class=\"fri\">Fri</th><th class=\"sat\">Sat</th></tr>\n<tr><td class=\"noday\">&nbsp;</td><td class=\"noday\">&nbsp;</td><td class=\"noday\">&nbsp;</td><td class=\"noday\">&nbsp;</td><td class=\"noday\">&nbsp;</td><td class=\"fri\">1</td><td class=\"sat\">2</td></tr>\n<tr><td class=\"sun\">3</td><td class=\"mon\">4</td><td class=\"tue\">5</td><td class=\"wed\">6</td><td class=\"thu\">7</td><td class=\"fri\">8</td><td class=\"sat\">9</td></tr>\n<tr><td class=\"sun\">10</td><td class=\"mon\">11</td><td class=\"tue\">12</td><td class=\"wed\">13</td><td class=\"thu\">14</td><td class=\"fri\">15</td><td class=\"sat\">16</td></tr>\n<tr><td class=\"sun\">17</td><td class=\"mon\">18</td><td class=\"tue\">19</td><td class=\"wed\">20</td><td class=\"thu\">21</td><td class=\"fri\">22</td><td class=\"sat\">23</td></tr>\n<tr><td class=\"sun\">24</td><td class=\"mon\">25</td><td class=\"tue\">26</td><td class=\"wed\">27</td><td class=\"thu\">28</td><td class=\"fri\">29</td><td class=\"sat\">30</td></tr>\n<tr><td class=\"sun\">31</td><td class=\"noday\">&nbsp;</td><td class=\"noday\">&nbsp;</td><td class=\"noday\">&nbsp;</td><td class=\"noday\">&nbsp;</td><td class=\"noday\">&nbsp;</td><td class=\"noday\">&nbsp;</td></tr>\n</table>\n\n"
     ]
    }
   ],
   "source": [
    "import calendar\n",
    "cal = calendar.HTMLCalendar(calendar.SUNDAY)\n",
    "month = cal.formatmonth(2021, 1, 0)\n",
    "print(month)"
   ]
  },
  {
   "cell_type": "code",
   "execution_count": 30,
   "metadata": {},
   "outputs": [
    {
     "output_type": "stream",
     "name": "stdout",
     "text": [
      "1\n2\n3\n4\n5\n6\n7\n8\n9\n10\n11\n12\n13\n14\n15\n16\n17\n18\n19\n20\n21\n22\n23\n24\n25\n26\n27\n28\n29\n30\n31\n0\n0\n0\n0\n"
     ]
    }
   ],
   "source": [
    "kal = calendar.TextCalendar(calendar.FRIDAY)\n",
    "for kal in kal.itermonthdays(2021, 1):\n",
    "    print(kal)"
   ]
  },
  {
   "source": [
    "## While"
   ],
   "cell_type": "markdown",
   "metadata": {}
  },
  {
   "cell_type": "code",
   "execution_count": 1,
   "metadata": {},
   "outputs": [
    {
     "output_type": "stream",
     "name": "stdout",
     "text": [
      "*\n**\n***\n****\n*****\n"
     ]
    }
   ],
   "source": [
    "x = 1\n",
    "star = \"*\"\n",
    "while x < 6:\n",
    "    print(star)\n",
    "    star += \"*\"\n",
    "    x += 1"
   ]
  },
  {
   "source": [
    "## Break"
   ],
   "cell_type": "markdown",
   "metadata": {}
  },
  {
   "cell_type": "code",
   "execution_count": 2,
   "metadata": {},
   "outputs": [
    {
     "output_type": "stream",
     "name": "stdout",
     "text": [
      "[1, 2, 3, 4, 5, 6, 7, 8, 9, 10]\n"
     ]
    }
   ],
   "source": [
    "deret = [1, 2, 3, 4, 5, 6, 7, 8, 9, 10]\n",
    "print(deret)"
   ]
  },
  {
   "cell_type": "code",
   "execution_count": 26,
   "metadata": {},
   "outputs": [
    {
     "output_type": "stream",
     "name": "stdout",
     "text": [
      "1\n2\n3\n4\n5\n6\n7\n8\n9\n10\n"
     ]
    }
   ],
   "source": [
    "for i in range(1,11):\n",
    "    print(i)"
   ]
  },
  {
   "cell_type": "code",
   "execution_count": 27,
   "metadata": {},
   "outputs": [
    {
     "output_type": "stream",
     "name": "stdout",
     "text": [
      "1\n3\n5\n7\n9\n"
     ]
    }
   ],
   "source": [
    "for i in range(1,11):\n",
    "    if(i % 2 == 0):\n",
    "        continue\n",
    "    print(i)"
   ]
  },
  {
   "cell_type": "code",
   "execution_count": 23,
   "metadata": {},
   "outputs": [
    {
     "output_type": "stream",
     "name": "stdout",
     "text": [
      "1\nBilangan tidak ada!\n2\nBilangan tidak ada!\n3\nBilangan tidak ada!\n4\nBilangan tidak ada!\n5\nAngka 5 ditemukan di dalam deret!\n"
     ]
    }
   ],
   "source": [
    "input_bil = int(input(\"Masukkan bilangan yang mau kamu cari : \"))\n",
    "for i in range(1,1000):\n",
    "    print(i)\n",
    "    if(input_bil == i):\n",
    "        print(\"Angka {} ditemukan di dalam deret!\".format(input_bil))\n",
    "        break\n",
    "    else:\n",
    "        print(\"Bilangan tidak ada!\")\n",
    "    "
   ]
  },
  {
   "source": [
    "## Pass"
   ],
   "cell_type": "markdown",
   "metadata": {}
  },
  {
   "cell_type": "code",
   "execution_count": 29,
   "metadata": {},
   "outputs": [],
   "source": [
    "def main():\n",
    "    pass"
   ]
  },
  {
   "cell_type": "code",
   "execution_count": 31,
   "metadata": {},
   "outputs": [],
   "source": [
    "for num in range(1,10):\n",
    "    pass"
   ]
  }
 ]
}